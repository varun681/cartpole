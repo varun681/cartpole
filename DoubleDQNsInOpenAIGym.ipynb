{
 "cells": [
  {
   "cell_type": "markdown",
   "metadata": {},
   "source": [
    "## Double Deep Q Networks"
   ]
  },
  {
   "cell_type": "markdown",
   "metadata": {},
   "source": [
    "#### Import tensorflow library"
   ]
  },
  {
   "cell_type": "code",
   "execution_count": 1,
   "metadata": {},
   "outputs": [
    {
     "name": "stdout",
     "output_type": "stream",
     "text": [
      "WARNING:tensorflow:From /Users/Guest/opt/anaconda3/envs/tensorflow/lib/python3.8/site-packages/tensorflow/python/compat/v2_compat.py:96: disable_resource_variables (from tensorflow.python.ops.variable_scope) is deprecated and will be removed in a future version.\n",
      "Instructions for updating:\n",
      "non-resource variables are not supported in the long term\n"
     ]
    }
   ],
   "source": [
    "#libraries\n",
    "import tensorflow.compat.v1 as tf\n",
    "tf.disable_v2_behavior()"
   ]
  },
  {
   "cell_type": "markdown",
   "metadata": {},
   "source": [
    "#### Import the libraries gym, tensor flow, numpy"
   ]
  },
  {
   "cell_type": "code",
   "execution_count": 2,
   "metadata": {
    "colab": {
     "base_uri": "https://localhost:8080/",
     "height": 51
    },
    "colab_type": "code",
    "id": "HnA-Zf8JqsL4",
    "outputId": "c187732c-31ed-4343-f17a-1fe7b4c8b0cb"
   },
   "outputs": [
    {
     "name": "stdout",
     "output_type": "stream",
     "text": [
      "Gym: 0.17.3\n",
      "Tensorflow: 2.3.0\n"
     ]
    }
   ],
   "source": [
    "import gym\n",
    "import random\n",
    "import numpy as np\n",
    "from collections import deque\n",
    "print(\"Gym:\", gym.__version__)\n",
    "print(\"Tensorflow:\", tf.__version__)"
   ]
  },
  {
   "cell_type": "markdown",
   "metadata": {},
   "source": [
    "#### Call the CarPole environment - CartPole-v1"
   ]
  },
  {
   "cell_type": "code",
   "execution_count": 3,
   "metadata": {
    "colab": {
     "base_uri": "https://localhost:8080/",
     "height": 51
    },
    "colab_type": "code",
    "id": "YHkYC1tmqsMB",
    "outputId": "69964460-737b-4f85-ef42-d9f17b420286"
   },
   "outputs": [
    {
     "name": "stdout",
     "output_type": "stream",
     "text": [
      "Observation space: Box(-3.4028234663852886e+38, 3.4028234663852886e+38, (4,), float32)\n",
      "Action space: Discrete(2)\n"
     ]
    }
   ],
   "source": [
    "env_name = \"CartPole-v1\"\n",
    "env = gym.make(env_name)\n",
    "print(\"Observation space:\", env.observation_space)\n",
    "print(\"Action space:\", env.action_space)"
   ]
  },
  {
   "cell_type": "markdown",
   "metadata": {},
   "source": [
    "#### Q Network Class"
   ]
  },
  {
   "cell_type": "code",
   "execution_count": 4,
   "metadata": {
    "colab": {},
    "colab_type": "code",
    "id": "79GCjcYYqsMG"
   },
   "outputs": [],
   "source": [
    "class QNetwork():\n",
    "    def __init__(self, state_dim, action_size, tau=0.01):\n",
    "        tf.reset_default_graph()\n",
    "        self.state_in = tf.placeholder(tf.float32, shape=[None, *state_dim])\n",
    "        self.action_in = tf.placeholder(tf.int32, shape=[None])\n",
    "        self.q_target_in = tf.placeholder(tf.float32, shape=[None])\n",
    "        action_one_hot = tf.one_hot(self.action_in, depth=action_size)\n",
    "        \n",
    "        self.q_state_local = self.build_model(action_size, \"local\")\n",
    "        self.q_state_target = self.build_model(action_size, \"target\")\n",
    "        \n",
    "        self.q_state_action = tf.reduce_sum(tf.multiply(self.q_state_local, action_one_hot), axis=1)\n",
    "        self.loss = tf.reduce_mean(tf.square(self.q_state_action - self.q_target_in))\n",
    "        self.optimizer = tf.train.AdamOptimizer(learning_rate=0.001).minimize(self.loss)\n",
    "        \n",
    "        self.local_vars = tf.get_collection(tf.GraphKeys.TRAINABLE_VARIABLES, scope=\"local\")\n",
    "        self.target_vars = tf.get_collection(tf.GraphKeys.TRAINABLE_VARIABLES, scope=\"target\")\n",
    "        self.updater = tf.group([tf.assign(t, t + tau*(l-t)) for t,l in zip(self.target_vars, self.local_vars)])\n",
    "        \n",
    "    def build_model(self, action_size, scope):\n",
    "        with tf.variable_scope(scope):\n",
    "            hidden1 = tf.layers.dense(self.state_in, 100, activation=tf.nn.relu)\n",
    "            q_state = tf.layers.dense(hidden1, action_size, activation=None)\n",
    "            return q_state\n",
    "        \n",
    "    def update_model(self, session, state, action, q_target):\n",
    "        feed = {self.state_in: state, self.action_in: action, self.q_target_in: q_target}\n",
    "        session.run([self.optimizer, self.updater], feed_dict=feed)\n",
    "        \n",
    "    def get_q_state(self, session, state, use_target=False):\n",
    "        q_state_op = self.q_state_target if use_target else self.q_state_local\n",
    "        q_state = session.run(q_state_op, feed_dict={self.state_in: state})\n",
    "        return q_state"
   ]
  },
  {
   "cell_type": "markdown",
   "metadata": {},
   "source": [
    "#### Replay Buffer class"
   ]
  },
  {
   "cell_type": "code",
   "execution_count": 5,
   "metadata": {
    "colab": {},
    "colab_type": "code",
    "id": "EYKcRk3ZqsMJ"
   },
   "outputs": [],
   "source": [
    "class ReplayBuffer():\n",
    "    def __init__(self, maxlen):\n",
    "        self.buffer = deque(maxlen=maxlen)\n",
    "        \n",
    "    def add(self, experience):\n",
    "        self.buffer.append(experience)\n",
    "        \n",
    "    def sample(self, batch_size):\n",
    "        sample_size = min(len(self.buffer), batch_size)\n",
    "        samples = random.choices(self.buffer, k=sample_size)\n",
    "        return map(list, zip(*samples))"
   ]
  },
  {
   "cell_type": "markdown",
   "metadata": {},
   "source": [
    "#### Double Deep Q Network Class "
   ]
  },
  {
   "cell_type": "code",
   "execution_count": 6,
   "metadata": {
    "colab": {},
    "colab_type": "code",
    "id": "XKIXlcQSqsMN"
   },
   "outputs": [],
   "source": [
    "class DoubleDQNAgent():\n",
    "    def __init__(self, env):\n",
    "        self.state_dim = env.observation_space.shape\n",
    "        self.action_size = env.action_space.n\n",
    "        self.q_network = QNetwork(self.state_dim, self.action_size)\n",
    "        self.replay_buffer = ReplayBuffer(maxlen=10000)\n",
    "        self.gamma = 0.97\n",
    "        self.eps = 1.0\n",
    "        \n",
    "        self.sess = tf.Session()\n",
    "        self.sess.run(tf.global_variables_initializer())\n",
    "        \n",
    "    def get_action(self, state):\n",
    "        q_state = self.q_network.get_q_state(self.sess, [state])\n",
    "        action_greedy = np.argmax(q_state)\n",
    "        action_random = np.random.randint(self.action_size)\n",
    "        action = action_random if random.random() < self.eps else action_greedy\n",
    "        return action\n",
    "    \n",
    "    def train(self, state, action, next_state, reward, done, use_DDQN=True):\n",
    "        self.replay_buffer.add((state, action, next_state, reward, done))\n",
    "        states, actions, next_states, rewards, dones = self.replay_buffer.sample(50)\n",
    "        \n",
    "        next_actions = np.argmax(self.q_network.get_q_state(self.sess, next_states, use_target=False), axis=1)\n",
    "        q_next_states = self.q_network.get_q_state(self.sess, next_states, use_target=use_DDQN)\n",
    "        q_next_states[dones] = np.zeros([self.action_size])\n",
    "        q_next_states_next_actions = q_next_states[np.arange(next_actions.shape[0]), next_actions]\n",
    "        q_targets = rewards + self.gamma * q_next_states_next_actions\n",
    "        self.q_network.update_model(self.sess, states, actions, q_targets)\n",
    "        \n",
    "        if done: self.eps = max(0.1, 0.99*self.eps)\n",
    "    \n",
    "    def __del__(self):\n",
    "        self.sess.close()"
   ]
  },
  {
   "cell_type": "code",
   "execution_count": 7,
   "metadata": {
    "colab": {
     "base_uri": "https://localhost:8080/",
     "height": 187
    },
    "colab_type": "code",
    "id": "zv9Amjj4qsMQ",
    "outputId": "51824ef8-efd7-419d-8641-f6a6e9f484fb"
   },
   "outputs": [
    {
     "name": "stdout",
     "output_type": "stream",
     "text": [
      "WARNING:tensorflow:From <ipython-input-4-8d8b160934f9>:22: dense (from tensorflow.python.keras.legacy_tf_layers.core) is deprecated and will be removed in a future version.\n",
      "Instructions for updating:\n",
      "Use keras.layers.Dense instead.\n",
      "WARNING:tensorflow:From /Users/Guest/opt/anaconda3/envs/tensorflow/lib/python3.8/site-packages/tensorflow/python/keras/legacy_tf_layers/core.py:187: Layer.apply (from tensorflow.python.keras.engine.base_layer_v1) is deprecated and will be removed in a future version.\n",
      "Instructions for updating:\n",
      "Please use `layer.__call__` method instead.\n",
      "Episode: 0, total_reward: 33.00\n",
      "Episode: 1, total_reward: 16.00\n",
      "Episode: 2, total_reward: 13.00\n",
      "Episode: 3, total_reward: 16.00\n",
      "Episode: 4, total_reward: 16.00\n",
      "Episode: 5, total_reward: 13.00\n",
      "Episode: 6, total_reward: 17.00\n",
      "Episode: 7, total_reward: 18.00\n",
      "Episode: 8, total_reward: 22.00\n",
      "Episode: 9, total_reward: 17.00\n",
      "Episode: 10, total_reward: 17.00\n",
      "Episode: 11, total_reward: 14.00\n",
      "Episode: 12, total_reward: 12.00\n",
      "Episode: 13, total_reward: 14.00\n",
      "Episode: 14, total_reward: 27.00\n",
      "Episode: 15, total_reward: 13.00\n",
      "Episode: 16, total_reward: 20.00\n",
      "Episode: 17, total_reward: 18.00\n",
      "Episode: 18, total_reward: 19.00\n",
      "Episode: 19, total_reward: 21.00\n",
      "Episode: 20, total_reward: 19.00\n",
      "Episode: 21, total_reward: 11.00\n",
      "Episode: 22, total_reward: 11.00\n",
      "Episode: 23, total_reward: 14.00\n",
      "Episode: 24, total_reward: 25.00\n",
      "Episode: 25, total_reward: 41.00\n",
      "Episode: 26, total_reward: 21.00\n",
      "Episode: 27, total_reward: 18.00\n",
      "Episode: 28, total_reward: 17.00\n",
      "Episode: 29, total_reward: 13.00\n",
      "Episode: 30, total_reward: 13.00\n",
      "Episode: 31, total_reward: 10.00\n",
      "Episode: 32, total_reward: 17.00\n",
      "Episode: 33, total_reward: 23.00\n",
      "Episode: 34, total_reward: 81.00\n",
      "Episode: 35, total_reward: 17.00\n",
      "Episode: 36, total_reward: 28.00\n",
      "Episode: 37, total_reward: 17.00\n",
      "Episode: 38, total_reward: 16.00\n",
      "Episode: 39, total_reward: 43.00\n",
      "Episode: 40, total_reward: 65.00\n",
      "Episode: 41, total_reward: 28.00\n",
      "Episode: 42, total_reward: 15.00\n",
      "Episode: 43, total_reward: 54.00\n",
      "Episode: 44, total_reward: 32.00\n",
      "Episode: 45, total_reward: 19.00\n",
      "Episode: 46, total_reward: 36.00\n",
      "Episode: 47, total_reward: 26.00\n",
      "Episode: 48, total_reward: 18.00\n",
      "Episode: 49, total_reward: 30.00\n",
      "Episode: 50, total_reward: 31.00\n",
      "Episode: 51, total_reward: 9.00\n",
      "Episode: 52, total_reward: 74.00\n",
      "Episode: 53, total_reward: 41.00\n",
      "Episode: 54, total_reward: 27.00\n",
      "Episode: 55, total_reward: 35.00\n",
      "Episode: 56, total_reward: 14.00\n",
      "Episode: 57, total_reward: 34.00\n",
      "Episode: 58, total_reward: 31.00\n",
      "Episode: 59, total_reward: 27.00\n",
      "Episode: 60, total_reward: 47.00\n",
      "Episode: 61, total_reward: 19.00\n",
      "Episode: 62, total_reward: 52.00\n",
      "Episode: 63, total_reward: 48.00\n",
      "Episode: 64, total_reward: 46.00\n",
      "Episode: 65, total_reward: 119.00\n",
      "Episode: 66, total_reward: 71.00\n",
      "Episode: 67, total_reward: 42.00\n",
      "Episode: 68, total_reward: 62.00\n",
      "Episode: 69, total_reward: 44.00\n",
      "Episode: 70, total_reward: 74.00\n",
      "Episode: 71, total_reward: 154.00\n",
      "Episode: 72, total_reward: 101.00\n",
      "Episode: 73, total_reward: 113.00\n",
      "Episode: 74, total_reward: 124.00\n",
      "Episode: 75, total_reward: 121.00\n",
      "Episode: 76, total_reward: 110.00\n",
      "Episode: 77, total_reward: 123.00\n",
      "Episode: 78, total_reward: 152.00\n",
      "Episode: 79, total_reward: 156.00\n",
      "Episode: 80, total_reward: 204.00\n",
      "Episode: 81, total_reward: 109.00\n",
      "Episode: 82, total_reward: 62.00\n",
      "Episode: 83, total_reward: 159.00\n",
      "Episode: 84, total_reward: 124.00\n",
      "Episode: 85, total_reward: 163.00\n",
      "Episode: 86, total_reward: 141.00\n",
      "Episode: 87, total_reward: 243.00\n",
      "Episode: 88, total_reward: 124.00\n",
      "Episode: 89, total_reward: 32.00\n",
      "Episode: 90, total_reward: 52.00\n",
      "Episode: 91, total_reward: 128.00\n",
      "Episode: 92, total_reward: 313.00\n",
      "Episode: 93, total_reward: 133.00\n",
      "Episode: 94, total_reward: 229.00\n",
      "Episode: 95, total_reward: 234.00\n",
      "Episode: 96, total_reward: 154.00\n",
      "Episode: 97, total_reward: 304.00\n",
      "Episode: 98, total_reward: 207.00\n",
      "Episode: 99, total_reward: 392.00\n",
      "Episode: 100, total_reward: 142.00\n",
      "Episode: 101, total_reward: 195.00\n",
      "Episode: 102, total_reward: 130.00\n",
      "Episode: 103, total_reward: 153.00\n",
      "Episode: 104, total_reward: 140.00\n",
      "Episode: 105, total_reward: 313.00\n",
      "Episode: 106, total_reward: 29.00\n",
      "Episode: 107, total_reward: 244.00\n",
      "Episode: 108, total_reward: 119.00\n",
      "Episode: 109, total_reward: 144.00\n",
      "Episode: 110, total_reward: 206.00\n",
      "Episode: 111, total_reward: 146.00\n",
      "Episode: 112, total_reward: 393.00\n",
      "Episode: 113, total_reward: 280.00\n",
      "Episode: 114, total_reward: 332.00\n",
      "Episode: 115, total_reward: 233.00\n",
      "Episode: 116, total_reward: 212.00\n",
      "Episode: 117, total_reward: 133.00\n",
      "Episode: 118, total_reward: 191.00\n",
      "Episode: 119, total_reward: 210.00\n",
      "Episode: 120, total_reward: 196.00\n",
      "Episode: 121, total_reward: 166.00\n",
      "Episode: 122, total_reward: 225.00\n",
      "Episode: 123, total_reward: 274.00\n",
      "Episode: 124, total_reward: 161.00\n",
      "Episode: 125, total_reward: 154.00\n",
      "Episode: 126, total_reward: 173.00\n",
      "Episode: 127, total_reward: 311.00\n",
      "Episode: 128, total_reward: 236.00\n",
      "Episode: 129, total_reward: 273.00\n",
      "Episode: 130, total_reward: 251.00\n",
      "Episode: 131, total_reward: 329.00\n",
      "Episode: 132, total_reward: 219.00\n",
      "Episode: 133, total_reward: 282.00\n",
      "Episode: 134, total_reward: 255.00\n",
      "Episode: 135, total_reward: 203.00\n",
      "Episode: 136, total_reward: 236.00\n",
      "Episode: 137, total_reward: 240.00\n",
      "Episode: 138, total_reward: 292.00\n",
      "Episode: 139, total_reward: 358.00\n",
      "Episode: 140, total_reward: 273.00\n",
      "Episode: 141, total_reward: 240.00\n",
      "Episode: 142, total_reward: 241.00\n",
      "Episode: 143, total_reward: 203.00\n",
      "Episode: 144, total_reward: 266.00\n",
      "Episode: 145, total_reward: 270.00\n",
      "Episode: 146, total_reward: 224.00\n",
      "Episode: 147, total_reward: 209.00\n",
      "Episode: 148, total_reward: 229.00\n",
      "Episode: 149, total_reward: 207.00\n",
      "Episode: 150, total_reward: 210.00\n",
      "Episode: 151, total_reward: 255.00\n",
      "Episode: 152, total_reward: 214.00\n",
      "Episode: 153, total_reward: 207.00\n",
      "Episode: 154, total_reward: 246.00\n",
      "Episode: 155, total_reward: 205.00\n",
      "Episode: 156, total_reward: 201.00\n",
      "Episode: 157, total_reward: 178.00\n",
      "Episode: 158, total_reward: 226.00\n",
      "Episode: 159, total_reward: 252.00\n",
      "Episode: 160, total_reward: 228.00\n",
      "Episode: 161, total_reward: 206.00\n",
      "Episode: 162, total_reward: 192.00\n",
      "Episode: 163, total_reward: 198.00\n",
      "Episode: 164, total_reward: 206.00\n",
      "Episode: 165, total_reward: 185.00\n",
      "Episode: 166, total_reward: 222.00\n",
      "Episode: 167, total_reward: 208.00\n",
      "Episode: 168, total_reward: 213.00\n",
      "Episode: 169, total_reward: 192.00\n",
      "Episode: 170, total_reward: 210.00\n",
      "Episode: 171, total_reward: 190.00\n",
      "Episode: 172, total_reward: 210.00\n",
      "Episode: 173, total_reward: 195.00\n",
      "Episode: 174, total_reward: 237.00\n",
      "Episode: 175, total_reward: 191.00\n",
      "Episode: 176, total_reward: 194.00\n",
      "Episode: 177, total_reward: 233.00\n",
      "Episode: 178, total_reward: 208.00\n",
      "Episode: 179, total_reward: 284.00\n",
      "Episode: 180, total_reward: 224.00\n",
      "Episode: 181, total_reward: 213.00\n",
      "Episode: 182, total_reward: 205.00\n",
      "Episode: 183, total_reward: 182.00\n",
      "Episode: 184, total_reward: 195.00\n",
      "Episode: 185, total_reward: 199.00\n",
      "Episode: 186, total_reward: 198.00\n",
      "Episode: 187, total_reward: 204.00\n",
      "Episode: 188, total_reward: 199.00\n",
      "Episode: 189, total_reward: 196.00\n",
      "Episode: 190, total_reward: 228.00\n",
      "Episode: 191, total_reward: 220.00\n",
      "Episode: 192, total_reward: 185.00\n",
      "Episode: 193, total_reward: 208.00\n",
      "Episode: 194, total_reward: 201.00\n",
      "Episode: 195, total_reward: 205.00\n",
      "Episode: 196, total_reward: 216.00\n",
      "Episode: 197, total_reward: 190.00\n",
      "Episode: 198, total_reward: 231.00\n",
      "Episode: 199, total_reward: 258.00\n"
     ]
    }
   ],
   "source": [
    "agent = DoubleDQNAgent(env)\n",
    "num_episodes = 200\n",
    "\n",
    "for ep in range(num_episodes):\n",
    "    state = env.reset()\n",
    "    total_reward = 0\n",
    "    done = False\n",
    "    while not done:\n",
    "        action = agent.get_action(state)\n",
    "        next_state, reward, done, info = env.step(action)\n",
    "        agent.train(state, action, next_state, reward, done)\n",
    "        env.render()\n",
    "        total_reward += reward\n",
    "        state = next_state\n",
    "        \n",
    "    print(\"Episode: {}, total_reward: {:.2f}\".format(ep, total_reward))"
   ]
  },
  {
   "cell_type": "code",
   "execution_count": 8,
   "metadata": {
    "colab": {},
    "colab_type": "code",
    "id": "_UBHQMHzqsMU"
   },
   "outputs": [],
   "source": [
    "#env.close()"
   ]
  }
 ],
 "metadata": {
  "colab": {
   "name": "DoubleDQNsInOpenAIGym.ipynb",
   "provenance": [],
   "version": "0.3.2"
  },
  "kernelspec": {
   "display_name": "Python 3",
   "language": "python",
   "name": "python3"
  },
  "language_info": {
   "codemirror_mode": {
    "name": "ipython",
    "version": 3
   },
   "file_extension": ".py",
   "mimetype": "text/x-python",
   "name": "python",
   "nbconvert_exporter": "python",
   "pygments_lexer": "ipython3",
   "version": "3.8.5"
  }
 },
 "nbformat": 4,
 "nbformat_minor": 1
}
