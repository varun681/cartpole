{
 "cells": [
  {
   "cell_type": "markdown",
   "metadata": {},
   "source": [
    "# Deep Q Networks"
   ]
  },
  {
   "cell_type": "markdown",
   "metadata": {},
   "source": [
    "#### Install tensor flow"
   ]
  },
  {
   "cell_type": "code",
   "execution_count": 10,
   "metadata": {},
   "outputs": [],
   "source": [
    "#pip install tensorflow "
   ]
  },
  {
   "cell_type": "markdown",
   "metadata": {},
   "source": [
    "#### import tensor flow library"
   ]
  },
  {
   "cell_type": "code",
   "execution_count": 11,
   "metadata": {},
   "outputs": [],
   "source": [
    "#libraries\n",
    "import tensorflow.compat.v1 as tf\n",
    "tf.disable_v2_behavior()\n"
   ]
  },
  {
   "cell_type": "markdown",
   "metadata": {},
   "source": [
    "#### Import the libraries - gym, numpy"
   ]
  },
  {
   "cell_type": "code",
   "execution_count": 12,
   "metadata": {},
   "outputs": [
    {
     "name": "stdout",
     "output_type": "stream",
     "text": [
      "Gym: 0.17.3\n",
      "Tensorflow: 2.3.0\n"
     ]
    }
   ],
   "source": [
    "import gym\n",
    "import random\n",
    "import numpy as np\n",
    "from collections import deque\n",
    "print(\"Gym:\", gym.__version__)\n",
    "print(\"Tensorflow:\", tf.__version__)"
   ]
  },
  {
   "cell_type": "markdown",
   "metadata": {},
   "source": [
    "#### Call the CartPole environment - CartPole-v1"
   ]
  },
  {
   "cell_type": "code",
   "execution_count": 13,
   "metadata": {},
   "outputs": [
    {
     "name": "stdout",
     "output_type": "stream",
     "text": [
      "Observation space: Box(-3.4028234663852886e+38, 3.4028234663852886e+38, (4,), float32)\n",
      "Action space: Discrete(2)\n"
     ]
    }
   ],
   "source": [
    "env_name = \"CartPole-v1\"\n",
    "env = gym.make(env_name)\n",
    "print(\"Observation space:\", env.observation_space)\n",
    "print(\"Action space:\", env.action_space)"
   ]
  },
  {
   "cell_type": "markdown",
   "metadata": {},
   "source": [
    "#### Q Network class"
   ]
  },
  {
   "cell_type": "code",
   "execution_count": 14,
   "metadata": {},
   "outputs": [],
   "source": [
    "class QNetwork():\n",
    "    def __init__(self, state_dim, action_size):\n",
    "        self.state_in = tf.placeholder(tf.float32, shape=[None, *state_dim])\n",
    "        self.action_in = tf.placeholder(tf.int32, shape=[None])\n",
    "        self.q_target_in = tf.placeholder(tf.float32, shape=[None])\n",
    "        action_one_hot = tf.one_hot(self.action_in, depth=action_size)\n",
    "        \n",
    "        self.hidden1 = tf.layers.dense(self.state_in, 100, activation=tf.nn.relu)\n",
    "        self.q_state = tf.layers.dense(self.hidden1, action_size, activation=None)\n",
    "        self.q_state_action = tf.reduce_sum(tf.multiply(self.q_state, action_one_hot), axis=1)\n",
    "        \n",
    "        self.loss = tf.reduce_mean(tf.square(self.q_state_action - self.q_target_in))\n",
    "        self.optimizer = tf.train.AdamOptimizer(learning_rate=0.001).minimize(self.loss)\n",
    "        \n",
    "    def update_model(self, session, state, action, q_target):\n",
    "        feed = {self.state_in: state, self.action_in: action, self.q_target_in: q_target}\n",
    "        session.run(self.optimizer, feed_dict=feed)\n",
    "        \n",
    "    def get_q_state(self, session, state):\n",
    "        q_state = session.run(self.q_state, feed_dict={self.state_in: state})\n",
    "        return q_state"
   ]
  },
  {
   "cell_type": "markdown",
   "metadata": {},
   "source": [
    "#### Replay buffer class"
   ]
  },
  {
   "cell_type": "code",
   "execution_count": 15,
   "metadata": {},
   "outputs": [],
   "source": [
    "class ReplayBuffer():\n",
    "    def __init__(self, maxlen):\n",
    "        self.buffer = deque(maxlen=maxlen)\n",
    "        \n",
    "    def add(self, experience):\n",
    "        self.buffer.append(experience)\n",
    "        \n",
    "    def sample(self, batch_size):\n",
    "        sample_size = min(len(self.buffer), batch_size)\n",
    "        samples = random.choices(self.buffer, k=sample_size)\n",
    "        return map(list, zip(*samples))"
   ]
  },
  {
   "cell_type": "markdown",
   "metadata": {},
   "source": [
    "#### DeepQNetwork class which will call the QNetwork and ReplayBuffer class"
   ]
  },
  {
   "cell_type": "code",
   "execution_count": 16,
   "metadata": {},
   "outputs": [],
   "source": [
    "class DQNAgent():\n",
    "    def __init__(self, env):\n",
    "        self.state_dim = env.observation_space.shape\n",
    "        self.action_size = env.action_space.n\n",
    "        self.q_network = QNetwork(self.state_dim, self.action_size)\n",
    "        self.replay_buffer = ReplayBuffer(maxlen=10000)\n",
    "        self.gamma = 0.97\n",
    "        self.eps = 1.0\n",
    "        \n",
    "        self.sess = tf.Session()\n",
    "        self.sess.run(tf.global_variables_initializer())\n",
    "        \n",
    "    def get_action(self, state):\n",
    "        q_state = self.q_network.get_q_state(self.sess, [state])\n",
    "        action_greedy = np.argmax(q_state)\n",
    "        action_random = np.random.randint(self.action_size)\n",
    "        action = action_random if random.random() < self.eps else action_greedy\n",
    "        return action\n",
    "    \n",
    "    def train(self, state, action, next_state, reward, done):\n",
    "        self.replay_buffer.add((state, action, next_state, reward, done))\n",
    "        states, actions, next_states, rewards, dones = self.replay_buffer.sample(50)\n",
    "        q_next_states = self.q_network.get_q_state(self.sess, next_states)\n",
    "        q_next_states[dones] = np.zeros([self.action_size])\n",
    "        q_targets = rewards + self.gamma * np.max(q_next_states, axis=1)\n",
    "        self.q_network.update_model(self.sess, states, actions, q_targets)\n",
    "        \n",
    "        if done: self.eps = max(0.1, 0.99*self.eps)\n",
    "    \n",
    "    def __del__(self):\n",
    "        self.sess.close()"
   ]
  },
  {
   "cell_type": "markdown",
   "metadata": {},
   "source": [
    "#### Run the environment and visualize using render function "
   ]
  },
  {
   "cell_type": "code",
   "execution_count": 17,
   "metadata": {},
   "outputs": [
    {
     "name": "stdout",
     "output_type": "stream",
     "text": [
      "Episode: 0, total_reward: 14.00\n",
      "Episode: 1, total_reward: 13.00\n",
      "Episode: 2, total_reward: 13.00\n",
      "Episode: 3, total_reward: 28.00\n",
      "Episode: 4, total_reward: 16.00\n",
      "Episode: 5, total_reward: 31.00\n",
      "Episode: 6, total_reward: 10.00\n",
      "Episode: 7, total_reward: 13.00\n",
      "Episode: 8, total_reward: 10.00\n",
      "Episode: 9, total_reward: 12.00\n",
      "Episode: 10, total_reward: 27.00\n",
      "Episode: 11, total_reward: 13.00\n",
      "Episode: 12, total_reward: 29.00\n",
      "Episode: 13, total_reward: 19.00\n",
      "Episode: 14, total_reward: 22.00\n",
      "Episode: 15, total_reward: 13.00\n",
      "Episode: 16, total_reward: 12.00\n",
      "Episode: 17, total_reward: 9.00\n",
      "Episode: 18, total_reward: 10.00\n",
      "Episode: 19, total_reward: 20.00\n",
      "Episode: 20, total_reward: 13.00\n",
      "Episode: 21, total_reward: 18.00\n",
      "Episode: 22, total_reward: 14.00\n",
      "Episode: 23, total_reward: 12.00\n",
      "Episode: 24, total_reward: 24.00\n",
      "Episode: 25, total_reward: 22.00\n",
      "Episode: 26, total_reward: 12.00\n",
      "Episode: 27, total_reward: 14.00\n",
      "Episode: 28, total_reward: 11.00\n",
      "Episode: 29, total_reward: 12.00\n",
      "Episode: 30, total_reward: 13.00\n",
      "Episode: 31, total_reward: 11.00\n",
      "Episode: 32, total_reward: 15.00\n",
      "Episode: 33, total_reward: 17.00\n",
      "Episode: 34, total_reward: 16.00\n",
      "Episode: 35, total_reward: 21.00\n",
      "Episode: 36, total_reward: 18.00\n",
      "Episode: 37, total_reward: 20.00\n",
      "Episode: 38, total_reward: 11.00\n",
      "Episode: 39, total_reward: 25.00\n",
      "Episode: 40, total_reward: 12.00\n",
      "Episode: 41, total_reward: 11.00\n",
      "Episode: 42, total_reward: 47.00\n",
      "Episode: 43, total_reward: 15.00\n",
      "Episode: 44, total_reward: 11.00\n",
      "Episode: 45, total_reward: 47.00\n",
      "Episode: 46, total_reward: 17.00\n",
      "Episode: 47, total_reward: 34.00\n",
      "Episode: 48, total_reward: 53.00\n",
      "Episode: 49, total_reward: 37.00\n",
      "Episode: 50, total_reward: 44.00\n",
      "Episode: 51, total_reward: 70.00\n",
      "Episode: 52, total_reward: 19.00\n",
      "Episode: 53, total_reward: 53.00\n",
      "Episode: 54, total_reward: 45.00\n",
      "Episode: 55, total_reward: 62.00\n",
      "Episode: 56, total_reward: 58.00\n",
      "Episode: 57, total_reward: 48.00\n",
      "Episode: 58, total_reward: 29.00\n",
      "Episode: 59, total_reward: 18.00\n",
      "Episode: 60, total_reward: 44.00\n",
      "Episode: 61, total_reward: 44.00\n",
      "Episode: 62, total_reward: 37.00\n",
      "Episode: 63, total_reward: 45.00\n",
      "Episode: 64, total_reward: 56.00\n",
      "Episode: 65, total_reward: 30.00\n",
      "Episode: 66, total_reward: 29.00\n",
      "Episode: 67, total_reward: 48.00\n",
      "Episode: 68, total_reward: 12.00\n",
      "Episode: 69, total_reward: 91.00\n",
      "Episode: 70, total_reward: 74.00\n",
      "Episode: 71, total_reward: 27.00\n",
      "Episode: 72, total_reward: 20.00\n",
      "Episode: 73, total_reward: 116.00\n",
      "Episode: 74, total_reward: 104.00\n",
      "Episode: 75, total_reward: 71.00\n",
      "Episode: 76, total_reward: 65.00\n",
      "Episode: 77, total_reward: 66.00\n",
      "Episode: 78, total_reward: 95.00\n",
      "Episode: 79, total_reward: 87.00\n",
      "Episode: 80, total_reward: 105.00\n",
      "Episode: 81, total_reward: 45.00\n",
      "Episode: 82, total_reward: 83.00\n",
      "Episode: 83, total_reward: 129.00\n",
      "Episode: 84, total_reward: 105.00\n",
      "Episode: 85, total_reward: 132.00\n",
      "Episode: 86, total_reward: 75.00\n",
      "Episode: 87, total_reward: 153.00\n",
      "Episode: 88, total_reward: 145.00\n",
      "Episode: 89, total_reward: 97.00\n",
      "Episode: 90, total_reward: 59.00\n",
      "Episode: 91, total_reward: 283.00\n",
      "Episode: 92, total_reward: 174.00\n",
      "Episode: 93, total_reward: 401.00\n",
      "Episode: 94, total_reward: 267.00\n",
      "Episode: 95, total_reward: 280.00\n",
      "Episode: 96, total_reward: 290.00\n",
      "Episode: 97, total_reward: 401.00\n",
      "Episode: 98, total_reward: 200.00\n",
      "Episode: 99, total_reward: 199.00\n",
      "Episode: 100, total_reward: 440.00\n",
      "Episode: 101, total_reward: 223.00\n",
      "Episode: 102, total_reward: 278.00\n",
      "Episode: 103, total_reward: 296.00\n",
      "Episode: 104, total_reward: 222.00\n",
      "Episode: 105, total_reward: 500.00\n",
      "Episode: 106, total_reward: 417.00\n",
      "Episode: 107, total_reward: 293.00\n",
      "Episode: 108, total_reward: 353.00\n",
      "Episode: 109, total_reward: 261.00\n",
      "Episode: 110, total_reward: 338.00\n",
      "Episode: 111, total_reward: 331.00\n",
      "Episode: 112, total_reward: 315.00\n",
      "Episode: 113, total_reward: 407.00\n",
      "Episode: 114, total_reward: 305.00\n",
      "Episode: 115, total_reward: 271.00\n",
      "Episode: 116, total_reward: 331.00\n",
      "Episode: 117, total_reward: 343.00\n",
      "Episode: 118, total_reward: 279.00\n",
      "Episode: 119, total_reward: 133.00\n",
      "Episode: 120, total_reward: 301.00\n",
      "Episode: 121, total_reward: 236.00\n",
      "Episode: 122, total_reward: 289.00\n",
      "Episode: 123, total_reward: 306.00\n",
      "Episode: 124, total_reward: 320.00\n",
      "Episode: 125, total_reward: 341.00\n",
      "Episode: 126, total_reward: 308.00\n",
      "Episode: 127, total_reward: 309.00\n",
      "Episode: 128, total_reward: 344.00\n",
      "Episode: 129, total_reward: 500.00\n",
      "Episode: 130, total_reward: 472.00\n",
      "Episode: 131, total_reward: 389.00\n",
      "Episode: 132, total_reward: 331.00\n",
      "Episode: 133, total_reward: 411.00\n",
      "Episode: 134, total_reward: 431.00\n",
      "Episode: 135, total_reward: 488.00\n",
      "Episode: 136, total_reward: 500.00\n",
      "Episode: 137, total_reward: 397.00\n",
      "Episode: 138, total_reward: 349.00\n",
      "Episode: 139, total_reward: 500.00\n",
      "Episode: 140, total_reward: 291.00\n",
      "Episode: 141, total_reward: 360.00\n",
      "Episode: 142, total_reward: 500.00\n",
      "Episode: 143, total_reward: 380.00\n",
      "Episode: 144, total_reward: 500.00\n",
      "Episode: 145, total_reward: 398.00\n",
      "Episode: 146, total_reward: 306.00\n",
      "Episode: 147, total_reward: 429.00\n",
      "Episode: 148, total_reward: 447.00\n",
      "Episode: 149, total_reward: 479.00\n",
      "Episode: 150, total_reward: 500.00\n",
      "Episode: 151, total_reward: 352.00\n",
      "Episode: 152, total_reward: 370.00\n",
      "Episode: 153, total_reward: 231.00\n",
      "Episode: 154, total_reward: 393.00\n",
      "Episode: 155, total_reward: 354.00\n",
      "Episode: 156, total_reward: 414.00\n",
      "Episode: 157, total_reward: 396.00\n",
      "Episode: 158, total_reward: 369.00\n",
      "Episode: 159, total_reward: 450.00\n",
      "Episode: 160, total_reward: 491.00\n",
      "Episode: 161, total_reward: 500.00\n",
      "Episode: 162, total_reward: 500.00\n",
      "Episode: 163, total_reward: 448.00\n",
      "Episode: 164, total_reward: 107.00\n",
      "Episode: 165, total_reward: 293.00\n",
      "Episode: 166, total_reward: 204.00\n",
      "Episode: 167, total_reward: 211.00\n",
      "Episode: 168, total_reward: 258.00\n",
      "Episode: 169, total_reward: 278.00\n",
      "Episode: 170, total_reward: 276.00\n",
      "Episode: 171, total_reward: 500.00\n",
      "Episode: 172, total_reward: 187.00\n",
      "Episode: 173, total_reward: 311.00\n",
      "Episode: 174, total_reward: 252.00\n",
      "Episode: 175, total_reward: 500.00\n",
      "Episode: 176, total_reward: 401.00\n",
      "Episode: 177, total_reward: 361.00\n",
      "Episode: 178, total_reward: 370.00\n",
      "Episode: 179, total_reward: 432.00\n",
      "Episode: 180, total_reward: 245.00\n",
      "Episode: 181, total_reward: 247.00\n",
      "Episode: 182, total_reward: 385.00\n",
      "Episode: 183, total_reward: 402.00\n",
      "Episode: 184, total_reward: 296.00\n",
      "Episode: 185, total_reward: 304.00\n",
      "Episode: 186, total_reward: 358.00\n",
      "Episode: 187, total_reward: 216.00\n",
      "Episode: 188, total_reward: 363.00\n",
      "Episode: 189, total_reward: 267.00\n",
      "Episode: 190, total_reward: 296.00\n",
      "Episode: 191, total_reward: 278.00\n",
      "Episode: 192, total_reward: 269.00\n",
      "Episode: 193, total_reward: 264.00\n",
      "Episode: 194, total_reward: 306.00\n",
      "Episode: 195, total_reward: 333.00\n",
      "Episode: 196, total_reward: 324.00\n",
      "Episode: 197, total_reward: 317.00\n",
      "Episode: 198, total_reward: 285.00\n",
      "Episode: 199, total_reward: 374.00\n"
     ]
    }
   ],
   "source": [
    "agent = DQNAgent(env)\n",
    "num_episodes = 200\n",
    "\n",
    "for ep in range(num_episodes):\n",
    "    state = env.reset()\n",
    "    total_reward = 0\n",
    "    done = False\n",
    "    while not done:\n",
    "        action = agent.get_action(state)\n",
    "        next_state, reward, done, info = env.step(action)\n",
    "        agent.train(state, action, next_state, reward, done)\n",
    "        env.render()\n",
    "        total_reward += reward\n",
    "        state = next_state\n",
    "        \n",
    "    print(\"Episode: {}, total_reward: {:.2f}\".format(ep, total_reward))"
   ]
  },
  {
   "cell_type": "code",
   "execution_count": null,
   "metadata": {},
   "outputs": [],
   "source": []
  },
  {
   "cell_type": "code",
   "execution_count": 18,
   "metadata": {},
   "outputs": [],
   "source": [
    "env.close()"
   ]
  }
 ],
 "metadata": {
  "kernelspec": {
   "display_name": "Python 3",
   "language": "python",
   "name": "python3"
  },
  "language_info": {
   "codemirror_mode": {
    "name": "ipython",
    "version": 3
   },
   "file_extension": ".py",
   "mimetype": "text/x-python",
   "name": "python",
   "nbconvert_exporter": "python",
   "pygments_lexer": "ipython3",
   "version": "3.8.5"
  }
 },
 "nbformat": 4,
 "nbformat_minor": 2
}
